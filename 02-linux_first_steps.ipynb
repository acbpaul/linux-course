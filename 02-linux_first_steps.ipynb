{
 "cells": [
  {
   "cell_type": "markdown",
   "metadata": {},
   "source": [
    "# Basics about user management\n",
    "\n",
    "- In Linux, users can be categorized into **three general categories:**\n",
    "\n",
    "    - **System accounts:**\n",
    "\n",
    "        - They are responsible for running background tasks on your system (such as: webserver, database,...)\n",
    "\n",
    "        - They don't have a home directory\n",
    "\n",
    "    - **Regular users:**\n",
    "\n",
    "        - They have access to their own files and directories\n",
    "\n",
    "        - They cannot perform administrative tasks or access other user's files without permission\n",
    "\n",
    "    - **Superuser (root):**\n",
    "\n",
    "        - The superuser (root) has unrestricted access to the entire system (including files in the home directories of regular users)\n",
    "\n",
    "        - Can add / remove users, install software\n",
    "        \n",
    "        - Can change the configuration of the system"
   ]
  }
 ],
 "metadata": {
  "language_info": {
   "name": "python"
  }
 },
 "nbformat": 4,
 "nbformat_minor": 2
}
