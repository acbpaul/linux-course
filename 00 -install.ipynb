{
 "cells": [
  {
   "cell_type": "markdown",
   "metadata": {},
   "source": [
    "# What is Linux?\n",
    "\n",
    "- **Linux** is the kernel of a family of open-source Unix-like operating\n",
    "systems (OS)\n",
    "\n",
    "- **OS**: A system software that manages computer hardware and\n",
    "provides various services for computer programs\n",
    "\n",
    "- **Unix:** A powerful, multitasking, multi-user OS that serves as the\n",
    "basis for many modern OS\n",
    "\n",
    "- **Kernel:** The kernel is the core part of an OS  \n",
    "    - It is responsible for managing the hardware, including the CPU, memory, and other devices\n"
   ]
  },
  {
   "cell_type": "markdown",
   "metadata": {},
   "source": [
    "# What is the GNU project?\n",
    "\n",
    "- GNU stands for GNU's Not Unix:\n",
    "\n",
    "    - **The goal:** To create a free and open-source operating system  \n",
    "    - Initiated in 1983  \n",
    "    - Most GNU software is released under the **GNU General Public License** (GPL), promoting the freedom to use, modify, and distribute the code  \n",
    "    - The Linux kernel, created in 1993 by Linus Torvalds, is released under the GPL\n",
    "\n",
    "- GNU provides many of the additional tools & utilities that we want to use\n",
    "\n",
    "- Linux provides the kernel\n",
    "\n",
    "- Together: **GNU/Linux**\n"
   ]
  },
  {
   "cell_type": "markdown",
   "metadata": {},
   "source": [
    "# What is VirtualBox?\n",
    "\n",
    "- VirtualBox is a **virtualization software** that allows you to create and run virtual machines (VMs) on your Windows computer\n",
    "\n",
    "- Developed by Oracle Corporation\n",
    "\n",
    "- Free & open-source software\n",
    "\n",
    "- **Installation:**  \n",
    "    - [https://www.virtualbox.org/wiki/Downloads](https://www.virtualbox.org/wiki/Downloads)\n",
    "\n",
    "#### The advantages\n",
    "\n",
    "- If we destroy your system - nothing to worry about\n",
    "\n",
    "- We can just reinstall it\n",
    "\n",
    "- And we can easily switch between different Linux systems...\n",
    "\n",
    "- ... or even run them at the same time!\n"
   ]
  },
  {
   "cell_type": "markdown",
   "metadata": {},
   "source": [
    "# Installing Ubuntu on VirtualBox\n",
    "\n",
    "- You also need to download the Ubuntu Desktop image\n",
    "\n",
    "- This image contains the whole operating system - including an installer\n",
    "\n",
    "- We can then create a virtual machine, and let VirtualBox install Ubuntu for us\n",
    "\n",
    "- [https://ubuntu.com/)](https://ubuntu.com/)\n",
    "\n",
    "- **Important:**  \n",
    "    **We will be using the latest LTS version of Ubuntu in this course**\n",
    "\n",
    "Also, if there are graphical glitches on screen, **allocate more Video Memory** to your virtual machine and **Enable 3D Acceleration** (checkbox)"
   ]
  },
  {
   "cell_type": "markdown",
   "metadata": {},
   "source": [
    "# Initial Ubuntu Configuration\n",
    "\n",
    "On the terminal, do the following:\n",
    "\n",
    "1. **Update your system**\n",
    "\n",
    "sudo apt update\n",
    "\n",
    "sudo apt full-upgrade\n",
    "\n",
    "**Restart your virtual machine if needed**\n",
    "\n",
    "2. **Install additional software (which will allow the installation of useful drivers)**\n",
    "\n",
    "sudo apt install build-essential linux-headers-generic dkms\n",
    "\n",
    "3. **Install the Guest Additions**\n",
    "\n",
    "In VirtualBox menu bar:\n",
    "\n",
    "Devices > Insert Guest Additions CD Image...\n",
    "\n",
    "Execute *VBoxLinuxAdditions.run*\n",
    "\n",
    "**Restart your virtual machine**"
   ]
  }
 ],
 "metadata": {
  "language_info": {
   "name": "python"
  }
 },
 "nbformat": 4,
 "nbformat_minor": 2
}
