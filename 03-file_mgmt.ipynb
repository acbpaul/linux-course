{
 "cells": [
  {
   "cell_type": "markdown",
   "metadata": {},
   "source": [
    "## File Management in Bash\n",
    "\n",
    "**touch**\n",
    "\n",
    "- typical use case: create an empty file (or multiple files)\n",
    "\n",
    "    - more precisely:\n",
    "\n",
    "        - to modify the timestamp of a file\n",
    "\n",
    "        - if the file already exists, only its timestamp will be modified\n",
    "\n",
    "        - otherwise, a new (and empty) file is created\n",
    "\n",
    "**mkdir** (make directory)\n",
    "\n",
    "- create a new directory\n",
    "\n",
    "**mv** (move)\n",
    "\n",
    "- move an existing file to another location\n",
    "\n",
    "- can also be used to rename an existing file\n",
    "\n",
    "**cp** (copy)\n",
    "\n",
    "- to copy an existing file\n",
    "\n",
    "- **cp -R**: copies a whole folder"
   ]
  },
  {
   "cell_type": "markdown",
   "metadata": {},
   "source": [
    "## How to delete files and folders\n",
    "\n",
    "**rm** (remove)\n",
    "\n",
    "- to remove a file (or multiple files at once)\n",
    "\n",
    "- for deleting a directory, you need to use the option –r\n",
    "\n",
    "- works for empty and non-empty directories\n",
    "\n",
    "**rmdir** (remove directory)\n",
    "\n",
    "- to delete an empty directory\n",
    "\n"
   ]
  },
  {
   "cell_type": "markdown",
   "metadata": {},
   "source": [
    "## Exercise: File management\n",
    "\n"
   ]
  },
  {
   "cell_type": "markdown",
   "metadata": {},
   "source": [
    "## Filename expansion (globbing)\n",
    "\n",
    "**Filename expansion:**\n",
    "\n",
    "- Bash can rewrite our command before it is being executed\n",
    "\n",
    "- Globbing recognizes and expands pre-defined wildcard characters\n",
    "\n",
    "- It will then search for files that match this pattern and expand (rewrite) our command\n",
    "\n",
    "- This allows us to easily access multiple files\n",
    "\n",
    "- **Wildcard character: \\***\n",
    "\n",
    "- Matches 0 to any number of characters\n",
    "\n",
    "**Important:**\n",
    "\n",
    "- The wildcard characters must not be quoted (so neither in 'single quotes' nor \"double quotes\")\n",
    "\n",
    "- Globbing does not use regular expressions"
   ]
  },
  {
   "cell_type": "markdown",
   "metadata": {},
   "source": [
    "## Additional wildcards for globbing\n",
    "\n",
    "**Additional ways to use globbing:**\n",
    "\n",
    "- ? -> matches any single character\n",
    "\n",
    "- [0-9] -> The square brackets allow us to specify a character range (here: all numbers)\n",
    "\n",
    "**\\*\\*** -> matches zero up to arbitrarily many characters (including /)\n",
    "\n",
    "- Only supported in Bash 4.0 or higher!\n",
    "\n",
    "- It might be necessary to enable this:\n",
    "\n",
    "**shopt -s globstar**\n",
    "\n"
   ]
  },
  {
   "cell_type": "markdown",
   "metadata": {},
   "source": [
    "## Be careful with globbing!\n",
    "\n",
    "- Globbing can be dangerous sometimes!\n",
    "\n",
    "- Bash doesn't differentiate between a folder and a parameter\n",
    "\n",
    "- And a name of a file may be interpreted as a parameter\n",
    "\n",
    "- This is especially dangerous if a file has a name such as:\n",
    "\n",
    "**-rf**\n",
    "\n",
    "- If we then execute **rm \\*** in that folder:\n",
    "\n",
    "    1. The * will be expanded, so -rf will appear in the command\n",
    "\n",
    "    2. rm will think that -rf is a parameter\n",
    "\n",
    "- **-r** means: recursive\n",
    "\n",
    "- **-f** means: don't ask\n",
    "\n",
    "- **What's the solution?**\n",
    "\n",
    "    - Especially if the files are in the current folder...\n",
    "    \n",
    "    - We should prefer globbing with **./\\*** over **\\***"
   ]
  },
  {
   "cell_type": "markdown",
   "metadata": {},
   "source": [
    "## Exercise: Extracting Files\n",
    "\n",
    "**Tips**\n",
    "\n",
    "- You can use custom ranges; this may help you with selecting the proper months. For example, [0-4] would match one character of the following: 0, 1, 2, 3, 4\n",
    "\n",
    "- You can combine custom ranges with wildcards, for example: **A[0-4]\\***\n",
    "\n",
    "    - The filename needs to start with an \"A\", followed by a 0, 1, 2, 3, 4, and then followed by zero to unlimited characters\n",
    "\n",
    "- **You can combine multiple patterns into a single cp command:**\n",
    "\n",
    "**cp [pattern1] [pattern2] [dest]**\n",
    "\n",
    "**cp \\*/\\*\\*/\\*.jpg \\*/\\*\\*/\\*.dng folder**"
   ]
  },
  {
   "cell_type": "markdown",
   "metadata": {},
   "source": [
    "## Bonus: The find program\n",
    "\n"
   ]
  }
 ],
 "metadata": {
  "language_info": {
   "name": "python"
  }
 },
 "nbformat": 4,
 "nbformat_minor": 2
}
