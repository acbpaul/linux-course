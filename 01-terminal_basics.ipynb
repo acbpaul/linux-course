{
 "cells": [
  {
   "cell_type": "markdown",
   "metadata": {},
   "source": [
    "## Confirm you are using Bash\n",
    "\n",
    "- Let's first confirm that you're running a Bash\n",
    "\n",
    "- We can do this with the following command:\n",
    "\n",
    "**echo \"${BASH_VERSION}\"**\n",
    "\n",
    "- **If it doesn't output anything (or just an empty line):**\n",
    "\n",
    "    - Be sure to launch Bash with the following command:\n",
    "\n",
    "    bash\n",
    "\n",
    "    - For now, you will need to do this any time you open a new window / tab in your terminal"
   ]
  },
  {
   "cell_type": "code",
   "execution_count": null,
   "metadata": {},
   "outputs": [
    {
     "name": "stdout",
     "output_type": "stream",
     "text": [
      "5.1.16(1)-release\n"
     ]
    }
   ],
   "source": [
    "%%bash\n",
    "\n",
    "echo \"${BASH_VERSION}\""
   ]
  },
  {
   "cell_type": "markdown",
   "metadata": {},
   "source": [
    "## The command *echo*\n",
    "\n",
    "- echo allows us to output text in the terminal\n",
    "\n",
    "**echo 'Bash is amazing!'**\n",
    "\n",
    "- For now, let's keep the string that we want to print should be wrapped in single quotes\n",
    "\n",
    "- By default:\n",
    "\n",
    "- echo will by default output a line break at the end\n",
    "\n",
    "- We can disable this with the option: **-n**\n",
    "\n",
    "*Example:*\n",
    "\n",
    "**echo -n 'Bash is amazing!'**\n",
    "\n",
    "- We can also use different options:\n",
    "\n",
    "- The option **-e** enables backslash escapes\n",
    "\n",
    "*Example:*\n",
    "\n",
    "**echo -e 'Line 1\\nLine 2'**\n",
    "\n",
    "- Here, \\n will now be converted into a line break\n",
    "\n",
    "- Quite often, we want to combine multiple options\n",
    "\n",
    "- **Usually, all of those are equivalent:**\n",
    "\n",
    "**echo -e -n 'Hello\\nworld'**\n",
    "\n",
    "**echo -en 'Hello\\nworld'**\n",
    "\n",
    "**echo -ne 'Hello\\nworld'**\n"
   ]
  },
  {
   "cell_type": "code",
   "execution_count": null,
   "metadata": {},
   "outputs": [
    {
     "name": "stdout",
     "output_type": "stream",
     "text": [
      "Bash is amazing!\n",
      "Bash is amazing!Line 1\n",
      "Line 2\n",
      "Hello\n",
      "worldHello\n",
      "worldHello\n",
      "world"
     ]
    }
   ],
   "source": [
    "%%bash\n",
    "\n",
    "echo 'Bash is amazing!'\n",
    "\n",
    "echo -n 'Bash is amazing!'\n",
    "\n",
    "echo -e 'Line 1\\nLine 2'\n",
    "\n",
    "echo -e -n 'Hello\\nworld'\n",
    "echo -en 'Hello\\nworld'\n",
    "echo -ne 'Hello\\nworld'"
   ]
  },
  {
   "cell_type": "markdown",
   "metadata": {},
   "source": [
    "## Navigating the filesystem\n",
    "\n",
    "### The *pwd* command\n",
    "\n",
    "- **In our terminal:**\n",
    "\n",
    "    - We're always in a directory\n",
    "\n",
    "    - This directory is called the working directory\n",
    "\n",
    "    - It is the folder that the shell is currently operating at\n",
    "\n",
    "    - Commands can access this folder and act relative to this directory\n",
    "\n",
    "    - **To find out our current directory:**\n",
    "\n",
    "    **pwd**\n",
    "\n",
    "- (print working directory)\n"
   ]
  },
  {
   "cell_type": "code",
   "execution_count": null,
   "metadata": {},
   "outputs": [
    {
     "name": "stdout",
     "output_type": "stream",
     "text": [
      "/home/acbpaul/GitHub/linux-course\n"
     ]
    }
   ],
   "source": [
    "%%bash\n",
    "\n",
    "pwd"
   ]
  },
  {
   "cell_type": "markdown",
   "metadata": {},
   "source": [
    "### Changing the directory: *cd*\n",
    "\n",
    "- If we want to change the directory, we can use the cd command\n",
    "\n",
    "- *cd* stands for: \"change directory\"\n",
    "\n",
    "- *Examples:*\n",
    "\n",
    "- Moves into the directory specified by [directory_name]\n",
    "\n",
    "**cd [directory_name]:**\n",
    "\n",
    "- Move into the parent directory\n",
    "\n",
    "**cd Desktop**\n",
    "**cd /**\n",
    "**cd ..:**\n",
    "\n",
    "- Move to the user's home directory\n",
    "\n",
    "**cd ~ or cd:**\n",
    "\n",
    "- Move to the user's desktop\n",
    "\n",
    "**cd ~/Desktop:**"
   ]
  },
  {
   "cell_type": "markdown",
   "metadata": {},
   "source": [
    "## Listing the contents: ls\n",
    "\n",
    "- To list the contents of the current working directory:\n",
    "\n",
    "    **ls**\n",
    "    \n",
    "- We can also add additional options:\n",
    "\n",
    "    Syntax: \n",
    "    \n",
    "    **ls [option...] [path]**\n",
    "    \n",
    "    **-a:** List all entries, including hidden files starting with .  \n",
    "    **-r:** Reverse order while sorting  \n",
    "    **-t:** Sort by modification time, newest first  \n",
    "    **--color:** Enables colorful output\n",
    "\n",
    "    *Example:* \n",
    "    \n",
    "    --color={always,never,auto}"
   ]
  },
  {
   "cell_type": "code",
   "execution_count": null,
   "metadata": {},
   "outputs": [
    {
     "name": "stdout",
     "output_type": "stream",
     "text": [
      "Sort all:\n",
      ".\n",
      "..\n",
      "00 -install.ipynb\n",
      "01-basics.ipynb\n",
      ".git\n",
      "README.md\n",
      ".vscode\n",
      "\n",
      "Sort by time, reversed:\n",
      "README.md\n",
      "00 -install.ipynb\n",
      "01-basics.ipynb\n"
     ]
    }
   ],
   "source": [
    "%%bash\n",
    "echo 'Sort all:'\n",
    "ls -a\n",
    "echo -e '\\nSort by time, reversed:'\n",
    "ls -rt"
   ]
  },
  {
   "cell_type": "markdown",
   "metadata": {
    "vscode": {
     "languageId": "shellscript"
    }
   },
   "source": [
    "## Absolute vs Relative paths\n",
    "\n",
    "### Absolute paths:\n",
    "\n",
    "- Start with a \"/\"\n",
    "\n",
    "- They define the complete path to a file\n",
    "\n",
    "- Thus, they work everywhere - no matter our current working directory\n",
    "\n",
    "- *Example:*\n",
    "\n",
    "**/home/your_username/Desktop**  \n",
    "**~/Desktop**\n",
    "\n",
    "### Relative paths:\n",
    "\n",
    "- Are being resolved according to our current working directory\n",
    "\n",
    "- *Example:*\n",
    "\n",
    "**./Desktop**  \n",
    "**Desktop**  \n",
    "**../Desktop**"
   ]
  },
  {
   "cell_type": "markdown",
   "metadata": {},
   "source": [
    "## Executing multiple commands\n",
    "\n",
    "- We can also execute multiple commands\n",
    "\n",
    "- For this, we can just add a semicolon between them:\n",
    "\n",
    "**command1; command2;**\n",
    "\n",
    "- *Example:*\n",
    "\n",
    "**- echo -n 'Hello '; echo 'World'**"
   ]
  },
  {
   "cell_type": "code",
   "execution_count": null,
   "metadata": {},
   "outputs": [
    {
     "name": "stdout",
     "output_type": "stream",
     "text": [
      "Hello World! Hello World again!\n"
     ]
    }
   ],
   "source": [
    "%%bash\n",
    "\n",
    "echo -n 'Hello World! '; echo 'Hello World again!'"
   ]
  },
  {
   "cell_type": "markdown",
   "metadata": {},
   "source": [
    "## How to get help?\n",
    "\n",
    "**--help / -h:**\n",
    "\n",
    "- For a lot of commands, we can just add a -h or a --help:\n",
    "\n",
    "**ls --help**\n",
    "\n",
    "- We will then be shown a list of possible options and arguments\n",
    "\n",
    "**man:**\n",
    "\n",
    "- If this doesn't work, we can check the built-in manuals\n",
    "\n",
    "**man ls**\n",
    "\n",
    "- Important:\n",
    "\n",
    "    - man pages (documentation) must be installed on your system\n",
    "\n",
    "- Otherwise:\n",
    "\n",
    "    - Many tools have extensive online documentation\n",
    "\n",
    "    - Communities such as Stack Overflow, or Reddit's Linux communities can also be great for help\n",
    "\n",
    "### To have manuals installed on Ubuntu Desktop:\n",
    "\n",
    "- Run on terminal:\n",
    "\n",
    "**sudo unminimize**  \n",
    "**sudo apt install man-db**"
   ]
  },
  {
   "cell_type": "code",
   "execution_count": null,
   "metadata": {},
   "outputs": [
    {
     "name": "stdout",
     "output_type": "stream",
     "text": [
      "Usage: ls [OPTION]... [FILE]...\n",
      "List information about the FILEs (the current directory by default).\n",
      "Sort entries alphabetically if none of -cftuvSUX nor --sort is specified.\n",
      "\n",
      "Mandatory arguments to long options are mandatory for short options too.\n",
      "  -a, --all                  do not ignore entries starting with .\n",
      "  -A, --almost-all           do not list implied . and ..\n",
      "      --author               with -l, print the author of each file\n",
      "  -b, --escape               print C-style escapes for nongraphic characters\n",
      "      --block-size=SIZE      with -l, scale sizes by SIZE when printing them;\n",
      "                               e.g., '--block-size=M'; see SIZE format below\n",
      "  -B, --ignore-backups       do not list implied entries ending with ~\n",
      "  -c                         with -lt: sort by, and show, ctime (time of last\n",
      "                               modification of file status information);\n",
      "                               with -l: show ctime and sort by name;\n",
      "                               otherwise: sort by ctime, newest first\n",
      "  -C                         list entries by columns\n",
      "      --color[=WHEN]         colorize the output; WHEN can be 'always' (default\n",
      "                               if omitted), 'auto', or 'never'; more info below\n",
      "  -d, --directory            list directories themselves, not their contents\n",
      "  -D, --dired                generate output designed for Emacs' dired mode\n",
      "  -f                         do not sort, enable -aU, disable -ls --color\n",
      "  -F, --classify             append indicator (one of */=>@|) to entries\n",
      "      --file-type            likewise, except do not append '*'\n",
      "      --format=WORD          across -x, commas -m, horizontal -x, long -l,\n",
      "                               single-column -1, verbose -l, vertical -C\n",
      "      --full-time            like -l --time-style=full-iso\n",
      "  -g                         like -l, but do not list owner\n",
      "      --group-directories-first\n",
      "                             group directories before files;\n",
      "                               can be augmented with a --sort option, but any\n",
      "                               use of --sort=none (-U) disables grouping\n",
      "  -G, --no-group             in a long listing, don't print group names\n",
      "  -h, --human-readable       with -l and -s, print sizes like 1K 234M 2G etc.\n",
      "      --si                   likewise, but use powers of 1000 not 1024\n",
      "  -H, --dereference-command-line\n",
      "                             follow symbolic links listed on the command line\n",
      "      --dereference-command-line-symlink-to-dir\n",
      "                             follow each command line symbolic link\n",
      "                               that points to a directory\n",
      "      --hide=PATTERN         do not list implied entries matching shell PATTERN\n",
      "                               (overridden by -a or -A)\n",
      "      --hyperlink[=WHEN]     hyperlink file names; WHEN can be 'always'\n",
      "                               (default if omitted), 'auto', or 'never'\n",
      "      --indicator-style=WORD  append indicator with style WORD to entry names:\n",
      "                               none (default), slash (-p),\n",
      "                               file-type (--file-type), classify (-F)\n",
      "  -i, --inode                print the index number of each file\n",
      "  -I, --ignore=PATTERN       do not list implied entries matching shell PATTERN\n",
      "  -k, --kibibytes            default to 1024-byte blocks for disk usage;\n",
      "                               used only with -s and per directory totals\n",
      "  -l                         use a long listing format\n",
      "  -L, --dereference          when showing file information for a symbolic\n",
      "                               link, show information for the file the link\n",
      "                               references rather than for the link itself\n",
      "  -m                         fill width with a comma separated list of entries\n",
      "  -n, --numeric-uid-gid      like -l, but list numeric user and group IDs\n",
      "  -N, --literal              print entry names without quoting\n",
      "  -o                         like -l, but do not list group information\n",
      "  -p, --indicator-style=slash\n",
      "                             append / indicator to directories\n",
      "  -q, --hide-control-chars   print ? instead of nongraphic characters\n",
      "      --show-control-chars   show nongraphic characters as-is (the default,\n",
      "                               unless program is 'ls' and output is a terminal)\n",
      "  -Q, --quote-name           enclose entry names in double quotes\n",
      "      --quoting-style=WORD   use quoting style WORD for entry names:\n",
      "                               literal, locale, shell, shell-always,\n",
      "                               shell-escape, shell-escape-always, c, escape\n",
      "                               (overrides QUOTING_STYLE environment variable)\n",
      "  -r, --reverse              reverse order while sorting\n",
      "  -R, --recursive            list subdirectories recursively\n",
      "  -s, --size                 print the allocated size of each file, in blocks\n",
      "  -S                         sort by file size, largest first\n",
      "      --sort=WORD            sort by WORD instead of name: none (-U), size (-S),\n",
      "                               time (-t), version (-v), extension (-X)\n",
      "      --time=WORD            change the default of using modification times;\n",
      "                               access time (-u): atime, access, use;\n",
      "                               change time (-c): ctime, status;\n",
      "                               birth time: birth, creation;\n",
      "                             with -l, WORD determines which time to show;\n",
      "                             with --sort=time, sort by WORD (newest first)\n",
      "      --time-style=TIME_STYLE  time/date format with -l; see TIME_STYLE below\n",
      "  -t                         sort by time, newest first; see --time\n",
      "  -T, --tabsize=COLS         assume tab stops at each COLS instead of 8\n",
      "  -u                         with -lt: sort by, and show, access time;\n",
      "                               with -l: show access time and sort by name;\n",
      "                               otherwise: sort by access time, newest first\n",
      "  -U                         do not sort; list entries in directory order\n",
      "  -v                         natural sort of (version) numbers within text\n",
      "  -w, --width=COLS           set output width to COLS.  0 means no limit\n",
      "  -x                         list entries by lines instead of by columns\n",
      "  -X                         sort alphabetically by entry extension\n",
      "  -Z, --context              print any security context of each file\n",
      "  -1                         list one file per line.  Avoid '\\n' with -q or -b\n",
      "      --help     display this help and exit\n",
      "      --version  output version information and exit\n",
      "\n",
      "The SIZE argument is an integer and optional unit (example: 10K is 10*1024).\n",
      "Units are K,M,G,T,P,E,Z,Y (powers of 1024) or KB,MB,... (powers of 1000).\n",
      "Binary prefixes can be used, too: KiB=K, MiB=M, and so on.\n",
      "\n",
      "The TIME_STYLE argument can be full-iso, long-iso, iso, locale, or +FORMAT.\n",
      "FORMAT is interpreted like in date(1).  If FORMAT is FORMAT1<newline>FORMAT2,\n",
      "then FORMAT1 applies to non-recent files and FORMAT2 to recent files.\n",
      "TIME_STYLE prefixed with 'posix-' takes effect only outside the POSIX locale.\n",
      "Also the TIME_STYLE environment variable sets the default style to use.\n",
      "\n",
      "Using color to distinguish file types is disabled both by default and\n",
      "with --color=never.  With --color=auto, ls emits color codes only when\n",
      "standard output is connected to a terminal.  The LS_COLORS environment\n",
      "variable can change the settings.  Use the dircolors command to set it.\n",
      "\n",
      "Exit status:\n",
      " 0  if OK,\n",
      " 1  if minor problems (e.g., cannot access subdirectory),\n",
      " 2  if serious trouble (e.g., cannot access command-line argument).\n",
      "\n",
      "GNU coreutils online help: <https://www.gnu.org/software/coreutils/>\n",
      "Full documentation <https://www.gnu.org/software/coreutils/ls>\n",
      "or available locally via: info '(coreutils) ls invocation'\n"
     ]
    }
   ],
   "source": [
    "%%bash\n",
    "\n",
    "ls --help"
   ]
  }
 ],
 "metadata": {
  "kernelspec": {
   "display_name": "Python 3",
   "language": "python",
   "name": "python3"
  },
  "language_info": {
   "codemirror_mode": {
    "name": "ipython",
    "version": 3
   },
   "file_extension": ".py",
   "mimetype": "text/x-python",
   "name": "python",
   "nbconvert_exporter": "python",
   "pygments_lexer": "ipython3",
   "version": "3.10.12"
  }
 },
 "nbformat": 4,
 "nbformat_minor": 2
}
